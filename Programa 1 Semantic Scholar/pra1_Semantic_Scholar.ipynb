{
 "cells": [
  {
   "cell_type": "markdown",
   "id": "99724895",
   "metadata": {},
   "source": [
    "# Universidad Oberta de Catalunya\n",
    "\n",
    "## Práctica de Web Scraping - PRA1\n",
    "\n",
    "### Integrantes del grupo:\n",
    "   - Bryan Steven Cortez Chichande\n",
    "   - Cesar Alexander Guzmán Vásquez\n",
    "\n",
    "### Descripción del segundo modelo\n",
    "El siguiente código permite realizar web scraping en la página Semantic Scholar con los siguientes temas:\n",
    "   * Data Science\n",
    "   * Data Mining\n",
    "   * Web Mining\n",
    "   * Web Scraping\n",
    "   * Text Mining\n",
    "   * Data Visualization"
   ]
  },
  {
   "cell_type": "markdown",
   "id": "f3bd8292",
   "metadata": {},
   "source": [
    "**1) Importación de librería utilizadas en las funciones creadas**"
   ]
  },
  {
   "cell_type": "code",
   "execution_count": null,
   "id": "67ec0a13",
   "metadata": {},
   "outputs": [],
   "source": [
    "import requests\n",
    "from bs4 import BeautifulSoup\n",
    "import json\n",
    "import csv\n",
    "import gc"
   ]
  },
  {
   "cell_type": "markdown",
   "id": "1795fb14",
   "metadata": {},
   "source": [
    "Información utilizada para verificar el nivel de acceso en las búsquedas y la forma de acceder a la información.\n",
    "    \n",
    "    Verificación del archivo robot.txt\n",
    "        https://www.semanticscholar.org/robots.txt\n",
    "    Acceso a la API del sitio web para desarrolladores\n",
    "        http://api.semanticscholar.org/\n",
    "        https://api.semanticscholar.org/graph/v1#operation/get_graph_get_paper_search\n",
    "        \n",
    "**Nota. Se utilizó la API del sitio web Semantic Scholar, debido a que no se logró acceder a la estructura HTML mediante la URL de la misma.**"
   ]
  },
  {
   "cell_type": "markdown",
   "id": "5af65332",
   "metadata": {},
   "source": [
    "**2) Función utilizada para obtener los datos desde la página web de Semantic Scholar y guardarlos en un archivo csv**"
   ]
  },
  {
   "cell_type": "code",
   "execution_count": null,
   "id": "df697a84",
   "metadata": {},
   "outputs": [],
   "source": [
    "def get_data_of_api_semantic_scholar(keyword, limit, numpapers, csv_writer):\n",
    "    \"\"\"\n",
    "        Parámetros de entrada:\n",
    "            keyword    String: Término de búsqueda\n",
    "            limit      int:    Número de documentos por búsqueda\n",
    "            numpapers  int:    Número total de artículos que se desea obtener\n",
    "            csv_writer Object: Objeto relacionado al archivo csv\n",
    "    \"\"\"\n",
    "    \n",
    "    _valoffset=0\n",
    "    _vallimit=limit\n",
    "    _valnumarticulos=numpapers\n",
    "    try:\n",
    "        \n",
    "        while _valnumarticulos>0:\n",
    "            _urlwbsc=\"http://api.semanticscholar.org/graph/v1/paper/search?query=\"+str(keyword)+\"&offset=\"+str(_valoffset)+\"&limit=\"+str(_vallimit)+\"&fields=paperId,title,authors,url,year,referenceCount,citationCount,influentialCitationCount,isOpenAccess,fieldsOfStudy\"\n",
    "            _webpagesc=requests.get(_urlwbsc)\n",
    "            _webpagesc.raise_for_status()\n",
    "            _resultwp = _webpagesc.json()\n",
    "            _numrows=len(_resultwp[\"data\"])\n",
    "            _contador=0\n",
    "\n",
    "            while _contador<_numrows:\n",
    "                _paper=_resultwp[\"data\"][_contador]\n",
    "                _datapp=[str(_paper[\"paperId\"]),str(_paper[\"title\"]),_paper[\"year\"],_paper[\"url\"],_paper[\"referenceCount\"],\n",
    "                         _paper[\"citationCount\"],_paper[\"influentialCitationCount\"],_paper[\"isOpenAccess\"]]\n",
    "                csv_writer.writerow(_datapp)\n",
    "\n",
    "                _contador+=1\n",
    "            \n",
    "            gc.collect();\n",
    "\n",
    "            _valoffset+=(_vallimit+1)\n",
    "            _valnumarticulos-=_vallimit\n",
    "\n",
    "    except requests.exceptions.HTTPError as errh:\n",
    "        print(errh)\n",
    "    except requests.exceptions.ConnectionError as errc:\n",
    "        print(errc)\n",
    "    except requests.exceptions.Timeout as errt:\n",
    "        print(errt)\n",
    "    except requests.exceptions.RequestException as err:\n",
    "        print(err)    \n",
    "    "
   ]
  },
  {
   "cell_type": "markdown",
   "id": "cbd345a1",
   "metadata": {},
   "source": [
    "**3) Función principal de la búsqueda, captura y recopilación de los datos bibliográficos de documentos científicos**"
   ]
  },
  {
   "cell_type": "code",
   "execution_count": null,
   "id": "65aa12bb",
   "metadata": {},
   "outputs": [],
   "source": [
    "def get_data_of_documents(limits, numpapers):\n",
    "    \"\"\"\n",
    "        Parámetros de entrada:\n",
    "            limits     int: Número de documentos por búsqueda\n",
    "            numpapers  int: Número total de artículos que se desea obtener\n",
    "    \"\"\"\n",
    "    \n",
    "    _listpapers=[]\n",
    "    _datahead = ['PaperId', 'Title', 'Year', 'URL', 'ReferenceCount', 'CitationCount', 'InfluentialCitationCount', 'IsOpenAccess']\n",
    "    _listkeywords=['data%20science','data%20mining','web%20mining','web%20scraping','text%20mining','data%20visualization']\n",
    "    \n",
    "    csv_file =  open(\"_dtpapers.csv\", 'w', newline='', encoding=\"utf-8\")\n",
    "    csv_writer = csv.writer(csv_file, delimiter=\",\", quoting=csv.QUOTE_ALL)\n",
    "    csv_writer.writerow(_datahead)\n",
    "    \n",
    "    for _keyword in _listkeywords:\n",
    "        get_data_of_api_semantic_scholar(_keyword, limits, numpapers, csv_writer);\n",
    "\n",
    "    csv_file.close()\n",
    "    "
   ]
  },
  {
   "cell_type": "markdown",
   "id": "accf8ef3",
   "metadata": {},
   "source": [
    "**Llamada a la función principal**"
   ]
  },
  {
   "cell_type": "code",
   "execution_count": null,
   "id": "c567535f",
   "metadata": {},
   "outputs": [],
   "source": [
    "get_data_of_documents(100,10000);"
   ]
  }
 ],
 "metadata": {
  "kernelspec": {
   "display_name": "Python 3",
   "language": "python",
   "name": "python3"
  },
  "language_info": {
   "codemirror_mode": {
    "name": "ipython",
    "version": 3
   },
   "file_extension": ".py",
   "mimetype": "text/x-python",
   "name": "python",
   "nbconvert_exporter": "python",
   "pygments_lexer": "ipython3",
   "version": "3.8.8"
  }
 },
 "nbformat": 4,
 "nbformat_minor": 5
}
